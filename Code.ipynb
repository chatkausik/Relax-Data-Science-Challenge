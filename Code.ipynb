{
 "cells": [
  {
   "cell_type": "markdown",
   "metadata": {},
   "source": [
    "This is the documentation of my code, summaries, and charts through which I analyzed the data provided to me."
   ]
  },
  {
   "cell_type": "code",
   "execution_count": 207,
   "metadata": {},
   "outputs": [],
   "source": [
    "#import libraries\n",
    "import numpy as np\n",
    "from pylab import *\n",
    "import time\n",
    "%matplotlib inline\n",
    "import matplotlib.pyplot as plt\n",
    "plt.show()\n",
    "import pandas as pd\n",
    "from datetime import datetime\n",
    "from dateutil import parser\n",
    "from sklearn.grid_search import GridSearchCV\n",
    "sns.set_context(\"poster\")\n"
   ]
  },
  {
   "cell_type": "markdown",
   "metadata": {},
   "source": [
    "Read in the first csv"
   ]
  },
  {
   "cell_type": "code",
   "execution_count": 208,
   "metadata": {},
   "outputs": [
    {
     "data": {
      "text/plain": [
       "12000"
      ]
     },
     "execution_count": 208,
     "metadata": {},
     "output_type": "execute_result"
    }
   ],
   "source": [
    "df=pd.read_csv(\"takehome_users.csv\")\n",
    "df.head()\n",
    "df=df.rename(columns = {'object_id':'user_id'})\n",
    "df.head()\n",
    "len(df)\n"
   ]
  },
  {
   "cell_type": "markdown",
   "metadata": {},
   "source": [
    "While running through this dataset, I realized that I did not end up with 12,000 users at the end. From analyzing deeper, I found there are 3177 users who have registered but never logged into the site, and therefore are not in the engagement csv."
   ]
  },
  {
   "cell_type": "code",
   "execution_count": 209,
   "metadata": {},
   "outputs": [
    {
     "name": "stdout",
     "output_type": "stream",
     "text": [
      "3177\n"
     ]
    }
   ],
   "source": [
    "user_list = list(set(pd.read_csv(\"takehome_user_engagement.csv\")['user_id']))\n",
    "\n",
    "temp = []\n",
    "\n",
    "for x in df.user_id:\n",
    "    if x not in user_list:\n",
    "        temp.append(x)\n",
    "        \n",
    "print len(temp)"
   ]
  },
  {
   "cell_type": "code",
   "execution_count": 210,
   "metadata": {
    "scrolled": true
   },
   "outputs": [
    {
     "name": "stdout",
     "output_type": "stream",
     "text": [
      "pre 8823\n"
     ]
    }
   ],
   "source": [
    "df2 = pd.read_csv(\"takehome_user_engagement.csv\")\n",
    "df2.head()\n",
    "print \"pre\", len(set(df2['user_id']))\n"
   ]
  },
  {
   "cell_type": "code",
   "execution_count": 211,
   "metadata": {},
   "outputs": [
    {
     "name": "stdout",
     "output_type": "stream",
     "text": [
      "post 8823\n"
     ]
    }
   ],
   "source": [
    "#calculate the week that the user logged in\n",
    "week = np.empty(len(df2['time_stamp']))\n",
    "for i in range(len(df2['time_stamp'])):\n",
    "    week[i] = parser.parse(df2['time_stamp'].values[i]).isocalendar()[1]\n",
    "print \"post\", len(set(df2['user_id']))"
   ]
  },
  {
   "cell_type": "code",
   "execution_count": 212,
   "metadata": {},
   "outputs": [],
   "source": [
    "#append the week to the dataframe\n",
    "df2['week'] = week\n",
    "df2.head()\n",
    "\n",
    "#groupby week to see how many times user has logged on in one week\n",
    "temp = df2.groupby(['user_id','week'])\n",
    "temp = temp['visited'].apply(np.sum)\n",
    "temp2 = temp.reset_index()\n",
    "temp3 = temp2.groupby('user_id')"
   ]
  },
  {
   "cell_type": "markdown",
   "metadata": {},
   "source": [
    "Now that we have the number of times a user has logged on in one week, we will now see if this has ever exceeded 3 times, because this is what defines an adopted user."
   ]
  },
  {
   "cell_type": "code",
   "execution_count": 213,
   "metadata": {},
   "outputs": [
    {
     "data": {
      "text/html": [
       "<div>\n",
       "<table border=\"1\" class=\"dataframe\">\n",
       "  <thead>\n",
       "    <tr style=\"text-align: right;\">\n",
       "      <th></th>\n",
       "      <th>user_id</th>\n",
       "      <th>visited</th>\n",
       "      <th>target</th>\n",
       "    </tr>\n",
       "  </thead>\n",
       "  <tbody>\n",
       "    <tr>\n",
       "      <th>0</th>\n",
       "      <td>1</td>\n",
       "      <td>1</td>\n",
       "      <td>0</td>\n",
       "    </tr>\n",
       "    <tr>\n",
       "      <th>1</th>\n",
       "      <td>2</td>\n",
       "      <td>3</td>\n",
       "      <td>1</td>\n",
       "    </tr>\n",
       "    <tr>\n",
       "      <th>2</th>\n",
       "      <td>3</td>\n",
       "      <td>1</td>\n",
       "      <td>0</td>\n",
       "    </tr>\n",
       "    <tr>\n",
       "      <th>3</th>\n",
       "      <td>4</td>\n",
       "      <td>1</td>\n",
       "      <td>0</td>\n",
       "    </tr>\n",
       "    <tr>\n",
       "      <th>4</th>\n",
       "      <td>5</td>\n",
       "      <td>1</td>\n",
       "      <td>0</td>\n",
       "    </tr>\n",
       "  </tbody>\n",
       "</table>\n",
       "</div>"
      ],
      "text/plain": [
       "   user_id  visited  target\n",
       "0        1        1       0\n",
       "1        2        3       1\n",
       "2        3        1       0\n",
       "3        4        1       0\n",
       "4        5        1       0"
      ]
     },
     "execution_count": 213,
     "metadata": {},
     "output_type": "execute_result"
    }
   ],
   "source": [
    "final = pd.DataFrame(temp3['visited'].apply(np.max)).reset_index()\n",
    "final['target'] = final['visited'] >= 3\n",
    "final.reset_index()\n",
    "final['target'] = 0 + final['target']\n",
    "final.head()"
   ]
  },
  {
   "cell_type": "code",
   "execution_count": 214,
   "metadata": {
    "scrolled": true
   },
   "outputs": [
    {
     "data": {
      "text/html": [
       "<div>\n",
       "<table border=\"1\" class=\"dataframe\">\n",
       "  <thead>\n",
       "    <tr style=\"text-align: right;\">\n",
       "      <th></th>\n",
       "      <th>user_id</th>\n",
       "      <th>visited</th>\n",
       "      <th>target</th>\n",
       "      <th>creation_time</th>\n",
       "      <th>name</th>\n",
       "      <th>email</th>\n",
       "      <th>creation_source</th>\n",
       "      <th>last_session_creation_time</th>\n",
       "      <th>opted_in_to_mailing_list</th>\n",
       "      <th>enabled_for_marketing_drip</th>\n",
       "      <th>org_id</th>\n",
       "      <th>invited_by_user_id</th>\n",
       "    </tr>\n",
       "  </thead>\n",
       "  <tbody>\n",
       "    <tr>\n",
       "      <th>0</th>\n",
       "      <td>1</td>\n",
       "      <td>1</td>\n",
       "      <td>0</td>\n",
       "      <td>2014-04-22 03:53:30</td>\n",
       "      <td>Clausen August</td>\n",
       "      <td>AugustCClausen@yahoo.com</td>\n",
       "      <td>GUEST_INVITE</td>\n",
       "      <td>1398138810</td>\n",
       "      <td>1</td>\n",
       "      <td>0</td>\n",
       "      <td>11</td>\n",
       "      <td>10803</td>\n",
       "    </tr>\n",
       "    <tr>\n",
       "      <th>1</th>\n",
       "      <td>2</td>\n",
       "      <td>3</td>\n",
       "      <td>1</td>\n",
       "      <td>2013-11-15 03:45:04</td>\n",
       "      <td>Poole Matthew</td>\n",
       "      <td>MatthewPoole@gustr.com</td>\n",
       "      <td>ORG_INVITE</td>\n",
       "      <td>1396237504</td>\n",
       "      <td>0</td>\n",
       "      <td>0</td>\n",
       "      <td>1</td>\n",
       "      <td>316</td>\n",
       "    </tr>\n",
       "    <tr>\n",
       "      <th>2</th>\n",
       "      <td>3</td>\n",
       "      <td>1</td>\n",
       "      <td>0</td>\n",
       "      <td>2013-03-19 23:14:52</td>\n",
       "      <td>Bottrill Mitchell</td>\n",
       "      <td>MitchellBottrill@gustr.com</td>\n",
       "      <td>ORG_INVITE</td>\n",
       "      <td>1363734892</td>\n",
       "      <td>0</td>\n",
       "      <td>0</td>\n",
       "      <td>94</td>\n",
       "      <td>1525</td>\n",
       "    </tr>\n",
       "    <tr>\n",
       "      <th>3</th>\n",
       "      <td>4</td>\n",
       "      <td>1</td>\n",
       "      <td>0</td>\n",
       "      <td>2013-05-21 08:09:28</td>\n",
       "      <td>Clausen Nicklas</td>\n",
       "      <td>NicklasSClausen@yahoo.com</td>\n",
       "      <td>GUEST_INVITE</td>\n",
       "      <td>1369210168</td>\n",
       "      <td>0</td>\n",
       "      <td>0</td>\n",
       "      <td>1</td>\n",
       "      <td>5151</td>\n",
       "    </tr>\n",
       "    <tr>\n",
       "      <th>4</th>\n",
       "      <td>5</td>\n",
       "      <td>1</td>\n",
       "      <td>0</td>\n",
       "      <td>2013-01-17 10:14:20</td>\n",
       "      <td>Raw Grace</td>\n",
       "      <td>GraceRaw@yahoo.com</td>\n",
       "      <td>GUEST_INVITE</td>\n",
       "      <td>1358849660</td>\n",
       "      <td>0</td>\n",
       "      <td>0</td>\n",
       "      <td>193</td>\n",
       "      <td>5240</td>\n",
       "    </tr>\n",
       "  </tbody>\n",
       "</table>\n",
       "</div>"
      ],
      "text/plain": [
       "   user_id  visited  target        creation_time               name                       email creation_source  last_session_creation_time  opted_in_to_mailing_list  enabled_for_marketing_drip  org_id  invited_by_user_id\n",
       "0        1        1       0  2014-04-22 03:53:30     Clausen August    AugustCClausen@yahoo.com    GUEST_INVITE                  1398138810                         1                           0      11               10803\n",
       "1        2        3       1  2013-11-15 03:45:04      Poole Matthew      MatthewPoole@gustr.com      ORG_INVITE                  1396237504                         0                           0       1                 316\n",
       "2        3        1       0  2013-03-19 23:14:52  Bottrill Mitchell  MitchellBottrill@gustr.com      ORG_INVITE                  1363734892                         0                           0      94                1525\n",
       "3        4        1       0  2013-05-21 08:09:28    Clausen Nicklas   NicklasSClausen@yahoo.com    GUEST_INVITE                  1369210168                         0                           0       1                5151\n",
       "4        5        1       0  2013-01-17 10:14:20          Raw Grace          GraceRaw@yahoo.com    GUEST_INVITE                  1358849660                         0                           0     193                5240"
      ]
     },
     "execution_count": 214,
     "metadata": {},
     "output_type": "execute_result"
    }
   ],
   "source": [
    "#merge to get the full pdf\n",
    "full = pd.merge(final, df, on ='user_id')\n",
    "full.head()"
   ]
  },
  {
   "cell_type": "markdown",
   "metadata": {},
   "source": [
    "Now that I have cleaned up the data given to me, I will create some of my own metrics that I think could be significant, such as the difference between creation start and last login, average adoption rate per organization, and whether the user who recommonded another user was an adopted user or not."
   ]
  },
  {
   "cell_type": "code",
   "execution_count": 215,
   "metadata": {
    "collapsed": true
   },
   "outputs": [],
   "source": [
    "#make dummy variables for each creation source\n",
    "for elem in full['creation_source'].unique():\n",
    "    full[str(elem)] = full['creation_source'] == elem\n"
   ]
  },
  {
   "cell_type": "code",
   "execution_count": 216,
   "metadata": {},
   "outputs": [],
   "source": [
    "#transform to see if user was recommended by another user\n",
    "full['userinvite'] =  1- np.isnan(full['invited_by_user_id'])\n",
    "\n",
    "#creates a variable to see if this user is an adopted user\n",
    "active = np.empty(len(full['user_id']))\n",
    "\n",
    "for i in range(len(full['user_id'])):\n",
    "    if  math.isnan((full['invited_by_user_id'][i])):\n",
    "        active[i] = 0\n",
    "    else:\n",
    "        user = full['invited_by_user_id'][i]\n",
    "        indx = full[full['user_id'] == user].index.tolist()\n",
    "        try:\n",
    "            active[i] = full.loc[indx[0]]['target']\n",
    "        except:\n",
    "            active[i] = 0\n",
    "        \n",
    "full['activeinvite'] =  active\n"
   ]
  },
  {
   "cell_type": "code",
   "execution_count": 217,
   "metadata": {
    "collapsed": true
   },
   "outputs": [],
   "source": [
    "#date diff from last login to creation date\n",
    "import datetime\n",
    "\n",
    "#clean up the data to get consistent Pd.Timestamp types\n",
    "full['creation_time2'] = [datetime.datetime.fromtimestamp(int(x)).strftime('%Y-%m-%d %H:%M:%S') for x in full['last_session_creation_time']]\n",
    "full['creation_time2'] = [datetime.datetime.strptime(x, \"%Y-%m-%d %H:%M:%S\") for x in full['creation_time2']]\n",
    "full['creation_time'] = [datetime.datetime.strptime(x, \"%Y-%m-%d %H:%M:%S\") for x in full['creation_time']]\n",
    "\n",
    "#find the difference in time from creation to last login\n",
    "full['diff'] = (full['creation_time2'] - full['creation_time']).dt.days\n",
    "                \n"
   ]
  },
  {
   "cell_type": "code",
   "execution_count": 218,
   "metadata": {},
   "outputs": [
    {
     "data": {
      "text/html": [
       "<div>\n",
       "<table border=\"1\" class=\"dataframe\">\n",
       "  <thead>\n",
       "    <tr style=\"text-align: right;\">\n",
       "      <th></th>\n",
       "      <th>user_id</th>\n",
       "      <th>visited</th>\n",
       "      <th>target</th>\n",
       "      <th>creation_time</th>\n",
       "      <th>name</th>\n",
       "      <th>email</th>\n",
       "      <th>creation_source</th>\n",
       "      <th>last_session_creation_time</th>\n",
       "      <th>opted_in_to_mailing_list</th>\n",
       "      <th>enabled_for_marketing_drip</th>\n",
       "      <th>org_id</th>\n",
       "      <th>invited_by_user_id</th>\n",
       "      <th>GUEST_INVITE</th>\n",
       "      <th>ORG_INVITE</th>\n",
       "      <th>SIGNUP</th>\n",
       "      <th>PERSONAL_PROJECTS</th>\n",
       "      <th>SIGNUP_GOOGLE_AUTH</th>\n",
       "      <th>userinvite</th>\n",
       "      <th>activeinvite</th>\n",
       "      <th>creation_time2</th>\n",
       "      <th>diff</th>\n",
       "      <th>orgrate</th>\n",
       "    </tr>\n",
       "  </thead>\n",
       "  <tbody>\n",
       "    <tr>\n",
       "      <th>0</th>\n",
       "      <td>1</td>\n",
       "      <td>1</td>\n",
       "      <td>0</td>\n",
       "      <td>2014-04-22 03:53:30</td>\n",
       "      <td>Clausen August</td>\n",
       "      <td>AugustCClausen@yahoo.com</td>\n",
       "      <td>GUEST_INVITE</td>\n",
       "      <td>1398138810</td>\n",
       "      <td>1</td>\n",
       "      <td>0</td>\n",
       "      <td>11</td>\n",
       "      <td>10803</td>\n",
       "      <td>True</td>\n",
       "      <td>False</td>\n",
       "      <td>False</td>\n",
       "      <td>False</td>\n",
       "      <td>False</td>\n",
       "      <td>1</td>\n",
       "      <td>0</td>\n",
       "      <td>2014-04-21 23:53:30</td>\n",
       "      <td>-1</td>\n",
       "      <td>0.125000</td>\n",
       "    </tr>\n",
       "    <tr>\n",
       "      <th>1</th>\n",
       "      <td>2</td>\n",
       "      <td>3</td>\n",
       "      <td>1</td>\n",
       "      <td>2013-11-15 03:45:04</td>\n",
       "      <td>Poole Matthew</td>\n",
       "      <td>MatthewPoole@gustr.com</td>\n",
       "      <td>ORG_INVITE</td>\n",
       "      <td>1396237504</td>\n",
       "      <td>0</td>\n",
       "      <td>0</td>\n",
       "      <td>1</td>\n",
       "      <td>316</td>\n",
       "      <td>False</td>\n",
       "      <td>True</td>\n",
       "      <td>False</td>\n",
       "      <td>False</td>\n",
       "      <td>False</td>\n",
       "      <td>1</td>\n",
       "      <td>0</td>\n",
       "      <td>2014-03-30 23:45:04</td>\n",
       "      <td>135</td>\n",
       "      <td>0.081395</td>\n",
       "    </tr>\n",
       "    <tr>\n",
       "      <th>2</th>\n",
       "      <td>3</td>\n",
       "      <td>1</td>\n",
       "      <td>0</td>\n",
       "      <td>2013-03-19 23:14:52</td>\n",
       "      <td>Bottrill Mitchell</td>\n",
       "      <td>MitchellBottrill@gustr.com</td>\n",
       "      <td>ORG_INVITE</td>\n",
       "      <td>1363734892</td>\n",
       "      <td>0</td>\n",
       "      <td>0</td>\n",
       "      <td>94</td>\n",
       "      <td>1525</td>\n",
       "      <td>False</td>\n",
       "      <td>True</td>\n",
       "      <td>False</td>\n",
       "      <td>False</td>\n",
       "      <td>False</td>\n",
       "      <td>1</td>\n",
       "      <td>1</td>\n",
       "      <td>2013-03-19 19:14:52</td>\n",
       "      <td>-1</td>\n",
       "      <td>0.260870</td>\n",
       "    </tr>\n",
       "    <tr>\n",
       "      <th>3</th>\n",
       "      <td>4</td>\n",
       "      <td>1</td>\n",
       "      <td>0</td>\n",
       "      <td>2013-05-21 08:09:28</td>\n",
       "      <td>Clausen Nicklas</td>\n",
       "      <td>NicklasSClausen@yahoo.com</td>\n",
       "      <td>GUEST_INVITE</td>\n",
       "      <td>1369210168</td>\n",
       "      <td>0</td>\n",
       "      <td>0</td>\n",
       "      <td>1</td>\n",
       "      <td>5151</td>\n",
       "      <td>True</td>\n",
       "      <td>False</td>\n",
       "      <td>False</td>\n",
       "      <td>False</td>\n",
       "      <td>False</td>\n",
       "      <td>1</td>\n",
       "      <td>1</td>\n",
       "      <td>2013-05-22 04:09:28</td>\n",
       "      <td>0</td>\n",
       "      <td>0.081395</td>\n",
       "    </tr>\n",
       "    <tr>\n",
       "      <th>4</th>\n",
       "      <td>5</td>\n",
       "      <td>1</td>\n",
       "      <td>0</td>\n",
       "      <td>2013-01-17 10:14:20</td>\n",
       "      <td>Raw Grace</td>\n",
       "      <td>GraceRaw@yahoo.com</td>\n",
       "      <td>GUEST_INVITE</td>\n",
       "      <td>1358849660</td>\n",
       "      <td>0</td>\n",
       "      <td>0</td>\n",
       "      <td>193</td>\n",
       "      <td>5240</td>\n",
       "      <td>True</td>\n",
       "      <td>False</td>\n",
       "      <td>False</td>\n",
       "      <td>False</td>\n",
       "      <td>False</td>\n",
       "      <td>1</td>\n",
       "      <td>1</td>\n",
       "      <td>2013-01-22 05:14:20</td>\n",
       "      <td>4</td>\n",
       "      <td>0.272727</td>\n",
       "    </tr>\n",
       "  </tbody>\n",
       "</table>\n",
       "</div>"
      ],
      "text/plain": [
       "   user_id  visited  target       creation_time               name                       email creation_source  last_session_creation_time  opted_in_to_mailing_list  enabled_for_marketing_drip  org_id  invited_by_user_id GUEST_INVITE ORG_INVITE SIGNUP PERSONAL_PROJECTS SIGNUP_GOOGLE_AUTH  userinvite  activeinvite      creation_time2  diff   orgrate\n",
       "0        1        1       0 2014-04-22 03:53:30     Clausen August    AugustCClausen@yahoo.com    GUEST_INVITE                  1398138810                         1                           0      11               10803         True      False  False             False              False           1             0 2014-04-21 23:53:30    -1  0.125000\n",
       "1        2        3       1 2013-11-15 03:45:04      Poole Matthew      MatthewPoole@gustr.com      ORG_INVITE                  1396237504                         0                           0       1                 316        False       True  False             False              False           1             0 2014-03-30 23:45:04   135  0.081395\n",
       "2        3        1       0 2013-03-19 23:14:52  Bottrill Mitchell  MitchellBottrill@gustr.com      ORG_INVITE                  1363734892                         0                           0      94                1525        False       True  False             False              False           1             1 2013-03-19 19:14:52    -1  0.260870\n",
       "3        4        1       0 2013-05-21 08:09:28    Clausen Nicklas   NicklasSClausen@yahoo.com    GUEST_INVITE                  1369210168                         0                           0       1                5151         True      False  False             False              False           1             1 2013-05-22 04:09:28     0  0.081395\n",
       "4        5        1       0 2013-01-17 10:14:20          Raw Grace          GraceRaw@yahoo.com    GUEST_INVITE                  1358849660                         0                           0     193                5240         True      False  False             False              False           1             1 2013-01-22 05:14:20     4  0.272727"
      ]
     },
     "execution_count": 218,
     "metadata": {},
     "output_type": "execute_result"
    }
   ],
   "source": [
    "#adopted user rate from organization\n",
    "orgdict = full.groupby('org_id')\n",
    "orgdict = orgdict['target'].apply(np.mean).reset_index()\n",
    "\n",
    "#find the matching organization adoption rate\n",
    "orgrate = np.empty(len(full.org_id))\n",
    "for i in range(len(full.org_id)):\n",
    "    orgrate[i] = orgdict.values[full.org_id[i]][1]\n",
    "    \n",
    "#fill data frame\n",
    "full['orgrate'] = orgrate\n",
    "\n",
    "full.head()"
   ]
  },
  {
   "cell_type": "code",
   "execution_count": 235,
   "metadata": {},
   "outputs": [],
   "source": [
    "#split into adopted users and non adopted useres\n",
    "fullrenew = full.query('target==True')\n",
    "fullnotrenew = full.query('target==False')\n",
    "\n",
    "#all variables we will consider\n",
    "lcols = ['GUEST_INVITE', 'opted_in_to_mailing_list', 'enabled_for_marketing_drip', 'ORG_INVITE', 'diff','activeinvite','SIGNUP', \n",
    "         'PERSONAL_PROJECTS', 'SIGNUP_GOOGLE_AUTH', 'userinvite', 'orgrate']"
   ]
  },
  {
   "cell_type": "markdown",
   "metadata": {},
   "source": [
    "Upon initial inspection of the data, I first wanted to look at the different creation sources to see if there is a significant difference in the adoption rates depending on the source."
   ]
  },
  {
   "cell_type": "code",
   "execution_count": 221,
   "metadata": {},
   "outputs": [
    {
     "data": {
      "text/plain": [
       "<matplotlib.text.Text at 0x1100e0c50>"
      ]
     },
     "execution_count": 221,
     "metadata": {},
     "output_type": "execute_result"
    },
    {
     "data": {
      "image/png": "[encoded data removed]",
      "text/plain": [
       "<matplotlib.figure.Figure at 0x11133a410>"
      ]
     },
     "metadata": {},
     "output_type": "display_data"
    }
   ],
   "source": [
    "the_grid = GridSpec(2, 2)\n",
    "labels = 'Guest', 'Organization', 'Signup', 'Personal', 'Google'\n",
    "fracs1 = [np.mean(fullrenew['GUEST_INVITE']), np.mean(fullrenew['ORG_INVITE']), \n",
    "         np.mean(fullrenew['SIGNUP']), np.mean(fullrenew['PERSONAL_PROJECTS']),\n",
    "         np.mean(fullrenew['SIGNUP_GOOGLE_AUTH'])]\n",
    "pie(fracs1,labels=labels,shadow=True, startangle=90)\n",
    "\n",
    "labels = 'Guest', 'Organization', 'Signup', 'Personal', 'Google'\n",
    "fracs2 = [np.mean(fullnotrenew['GUEST_INVITE']), np.mean(fullnotrenew['ORG_INVITE']), \n",
    "         np.mean(fullnotrenew['SIGNUP']), np.mean(fullnotrenew['PERSONAL_PROJECTS']),\n",
    "         np.mean(fullnotrenew['SIGNUP_GOOGLE_AUTH'])]\n",
    "pie(fracs2,labels=labels,shadow=True, startangle=90)\n",
    "\n",
    "plt.subplot(the_grid[0, 0], aspect=1)\n",
    "\n",
    "plt.pie(fracs1, labels=labels, autopct='%1.1f%%', shadow=True)\n",
    "plt.title(\"Adopted\")\n",
    "plt.subplot(the_grid[0, 1], aspect=1)\n",
    "\n",
    "plt.pie(fracs2, labels=labels, autopct='%.0f%%', shadow=True)\n",
    "plt.title(\"Not Adopted\")"
   ]
  },
  {
   "cell_type": "markdown",
   "metadata": {},
   "source": [
    "Based on the pie chart, it is fairly difficult to see if there is a significant difference in the distribution of creation sources from those who are adopted users and those who are not. For further analysis, I have decided to run a two proportion t-test among adopted user samples and non adopted user samples."
   ]
  },
  {
   "cell_type": "code",
   "execution_count": 222,
   "metadata": {},
   "outputs": [
    {
     "name": "stdout",
     "output_type": "stream",
     "text": [
      "(-2.5103330316548464, 0.012079486183424049)\n",
      "(2.2379543436119849, 0.02524889057672151)\n",
      "(4.9427027058070463, 7.8465611184303486e-07)\n",
      "(-1.8637316242345072, 0.062392602346958315)\n"
     ]
    }
   ],
   "source": [
    "from scipy import stats  \n",
    "\n",
    "\n",
    "print stats.ttest_ind(fullrenew['SIGNUP'], fullnotrenew['SIGNUP'])\n",
    "print stats.ttest_ind(fullrenew['PERSONAL_PROJECTS'], fullnotrenew['PERSONAL_PROJECTS'])\n",
    "print stats.ttest_ind(fullrenew['GUEST_INVITE'], fullnotrenew['GUEST_INVITE'])\n",
    "print stats.ttest_ind(fullrenew['ORG_INVITE'], fullnotrenew['ORG_INVITE'])\n"
   ]
  },
  {
   "cell_type": "markdown",
   "metadata": {},
   "source": [
    "From these results, I can see that only SIGNUP, PERSONAL_PROJECTS, and GUEST_INVITES have a statistically significant difference in the distribution of adopted users and non-adopted users. Therefore, only some creation sources affect if if a user will adopt the product."
   ]
  },
  {
   "cell_type": "markdown",
   "metadata": {
    "collapsed": true
   },
   "source": [
    "Now we will use logistic regression to find the most important features to help the prediction in our model."
   ]
  },
  {
   "cell_type": "code",
   "execution_count": 223,
   "metadata": {
    "collapsed": true
   },
   "outputs": [],
   "source": [
    "\n",
    "#Using GridSearchCV, it will choose the most optimal model after trying all different types of parameters given\n",
    "def cv_optimize(clf, parameters, X, y, n_folds=5):\n",
    "    gs = GridSearchCV(clf, param_grid=parameters,  cv=n_folds)\n",
    "    gs.fit(X, y)\n",
    "    print \"BEST\", gs.best_params_, gs.best_score_, gs.grid_scores_\n",
    "    best = gs.best_estimator_\n",
    "    return best"
   ]
  },
  {
   "cell_type": "code",
   "execution_count": 229,
   "metadata": {
    "collapsed": true
   },
   "outputs": [],
   "source": [
    "\"\"\"\n",
    "This function will take in the model,\n",
    "parameters you want to optimize,\n",
    "features you want to test in the model, \n",
    "the target variable\n",
    "the target value that you want\n",
    "mask- which represents which data you will use as training and which as testing\n",
    "nfolds- number of cross validation\n",
    "\"\"\"\n",
    "from sklearn.metrics import confusion_matrix\n",
    "def do_classify(clf, parameters, indf, featurenames, targetname, target1val, mask=None,  n_folds=5):\n",
    "    #selects only the features we want\n",
    "    subdf=indf[featurenames]\n",
    "    #this is the xmatrix\n",
    "    X=subdf.values\n",
    "    \n",
    "    #gets the y array\n",
    "    y=(indf[targetname].values==target1val)*1\n",
    "    #separates into training and testing sets\n",
    "    Xtrain, Xtest, ytrain, ytest = X[mask], X[~mask], y[mask], y[~mask]\n",
    "    \n",
    "    #optimize using GridSearchCV\n",
    "    clf = cv_optimize(clf, parameters, Xtrain, ytrain, n_folds=n_folds)\n",
    "    clf=clf.fit(Xtrain, ytrain)\n",
    "    training_accuracy = clf.score(Xtrain, ytrain)\n",
    "    test_accuracy = clf.score(Xtest, ytest)\n",
    "    print \"############# based on standard predict ################\"\n",
    "    print \"Accuracy on training data: %0.2f\" % (training_accuracy)\n",
    "    print \"Accuracy on test data:     %0.2f\" % (test_accuracy)\n",
    "    print confusion_matrix(ytest, clf.predict(Xtest))\n",
    "    print \"########################################################\"\n",
    "    return clf, Xtrain, ytrain, Xtest, ytest"
   ]
  },
  {
   "cell_type": "code",
   "execution_count": 236,
   "metadata": {},
   "outputs": [
    {
     "name": "stdout",
     "output_type": "stream",
     "text": [
      "[ True False  True ...,  True  True  True]\n"
     ]
    }
   ],
   "source": [
    "#Generating my mask to decide my testing and training\n",
    "from sklearn.cross_validation import train_test_split\n",
    "itrain, itest = train_test_split(xrange(full.shape[0]), train_size=0.7)\n",
    "mask=np.ones(full.shape[0], dtype='int')\n",
    "mask[itrain]=1\n",
    "mask[itest]=0\n",
    "mask = (mask==1)\n",
    "print mask\n"
   ]
  },
  {
   "cell_type": "code",
   "execution_count": 237,
   "metadata": {},
   "outputs": [
    {
     "name": "stdout",
     "output_type": "stream",
     "text": [
      "BEST {'C': 0.001} 0.970369170984 [mean: 0.97037, std: 0.00195, params: {'C': 0.001}, mean: 0.96972, std: 0.00451, params: {'C': 0.01}, mean: 0.96972, std: 0.00451, params: {'C': 0.1}, mean: 0.97037, std: 0.00439, params: {'C': 1.0}, mean: 0.96988, std: 0.00414, params: {'C': 10.0}, mean: 0.97005, std: 0.00383, params: {'C': 100}, mean: 0.96988, std: 0.00414, params: {'C': 1000}]\n",
      "############# based on standard predict ################\n",
      "Accuracy on training data: 0.97\n",
      "Accuracy on test data:     0.97\n",
      "[[2170   32]\n",
      " [  42  403]]\n",
      "########################################################\n"
     ]
    }
   ],
   "source": [
    "#Run the model \n",
    "from sklearn.linear_model import LogisticRegression\n",
    "clflog, _, _, _, ytest = do_classify(LogisticRegression(penalty=\"l1\"), {\"C\": [0.001, 0.01, 0.1, 1.0, 10.0,100,1000]}, full,lcols, u'target',1, mask=mask)\n"
   ]
  },
  {
   "cell_type": "code",
   "execution_count": 238,
   "metadata": {},
   "outputs": [
    {
     "data": {
      "text/html": [
       "<div>\n",
       "<table border=\"1\" class=\"dataframe\">\n",
       "  <thead>\n",
       "    <tr style=\"text-align: right;\">\n",
       "      <th></th>\n",
       "      <th>abscoef</th>\n",
       "      <th>coef</th>\n",
       "    </tr>\n",
       "    <tr>\n",
       "      <th>feature</th>\n",
       "      <th></th>\n",
       "      <th></th>\n",
       "    </tr>\n",
       "  </thead>\n",
       "  <tbody>\n",
       "    <tr>\n",
       "      <th>diff</th>\n",
       "      <td>0.016621</td>\n",
       "      <td>0.016621</td>\n",
       "    </tr>\n",
       "    <tr>\n",
       "      <th>GUEST_INVITE</th>\n",
       "      <td>0.000000</td>\n",
       "      <td>0.000000</td>\n",
       "    </tr>\n",
       "    <tr>\n",
       "      <th>opted_in_to_mailing_list</th>\n",
       "      <td>0.000000</td>\n",
       "      <td>0.000000</td>\n",
       "    </tr>\n",
       "    <tr>\n",
       "      <th>enabled_for_marketing_drip</th>\n",
       "      <td>0.000000</td>\n",
       "      <td>0.000000</td>\n",
       "    </tr>\n",
       "    <tr>\n",
       "      <th>ORG_INVITE</th>\n",
       "      <td>0.000000</td>\n",
       "      <td>0.000000</td>\n",
       "    </tr>\n",
       "    <tr>\n",
       "      <th>activeinvite</th>\n",
       "      <td>0.000000</td>\n",
       "      <td>0.000000</td>\n",
       "    </tr>\n",
       "    <tr>\n",
       "      <th>SIGNUP</th>\n",
       "      <td>0.000000</td>\n",
       "      <td>0.000000</td>\n",
       "    </tr>\n",
       "    <tr>\n",
       "      <th>PERSONAL_PROJECTS</th>\n",
       "      <td>0.000000</td>\n",
       "      <td>0.000000</td>\n",
       "    </tr>\n",
       "    <tr>\n",
       "      <th>SIGNUP_GOOGLE_AUTH</th>\n",
       "      <td>0.000000</td>\n",
       "      <td>0.000000</td>\n",
       "    </tr>\n",
       "    <tr>\n",
       "      <th>userinvite</th>\n",
       "      <td>0.000000</td>\n",
       "      <td>0.000000</td>\n",
       "    </tr>\n",
       "  </tbody>\n",
       "</table>\n",
       "</div>"
      ],
      "text/plain": [
       "                             abscoef      coef\n",
       "feature                                       \n",
       "diff                        0.016621  0.016621\n",
       "GUEST_INVITE                0.000000  0.000000\n",
       "opted_in_to_mailing_list    0.000000  0.000000\n",
       "enabled_for_marketing_drip  0.000000  0.000000\n",
       "ORG_INVITE                  0.000000  0.000000\n",
       "activeinvite                0.000000  0.000000\n",
       "SIGNUP                      0.000000  0.000000\n",
       "PERSONAL_PROJECTS           0.000000  0.000000\n",
       "SIGNUP_GOOGLE_AUTH          0.000000  0.000000\n",
       "userinvite                  0.000000  0.000000"
      ]
     },
     "execution_count": 238,
     "metadata": {},
     "output_type": "execute_result"
    }
   ],
   "source": [
    "\n",
    "importances = pd.DataFrame(dict(feature=lcols, coef=clflog.coef_[0], abscoef=np.abs(clflog.coef_[0]))).sort('abscoef', ascending=False)\n",
    "importances.set_index(\"feature\", inplace=True)\n",
    "importances.head(10)"
   ]
  },
  {
   "cell_type": "markdown",
   "metadata": {},
   "source": [
    "From this model, it looks like difference is a very significant factor and it's hard to see if any other factors could be a good indicator. Therefore, I will try running the model without diff to understand what the following predictors could be."
   ]
  },
  {
   "cell_type": "code",
   "execution_count": 240,
   "metadata": {},
   "outputs": [
    {
     "name": "stdout",
     "output_type": "stream",
     "text": [
      "BEST {'C': 0.1} 0.838406735751 [mean: 0.83808, std: 0.00005, params: {'C': 0.001}, mean: 0.83808, std: 0.00005, params: {'C': 0.01}, mean: 0.83841, std: 0.00122, params: {'C': 0.1}, mean: 0.83760, std: 0.00153, params: {'C': 1.0}, mean: 0.83776, std: 0.00152, params: {'C': 10.0}, mean: 0.83776, std: 0.00152, params: {'C': 100}, mean: 0.83776, std: 0.00152, params: {'C': 1000}]\n",
      "############# based on standard predict ################\n",
      "Accuracy on training data: 0.84\n",
      "Accuracy on test data:     0.83\n",
      "[[2197    5]\n",
      " [ 437    8]]\n",
      "########################################################\n"
     ]
    },
    {
     "data": {
      "text/html": [
       "<div>\n",
       "<table border=\"1\" class=\"dataframe\">\n",
       "  <thead>\n",
       "    <tr style=\"text-align: right;\">\n",
       "      <th></th>\n",
       "      <th>abscoef</th>\n",
       "      <th>coef</th>\n",
       "    </tr>\n",
       "    <tr>\n",
       "      <th>feature</th>\n",
       "      <th></th>\n",
       "      <th></th>\n",
       "    </tr>\n",
       "  </thead>\n",
       "  <tbody>\n",
       "    <tr>\n",
       "      <th>orgrate</th>\n",
       "      <td>4.772734</td>\n",
       "      <td>4.772734</td>\n",
       "    </tr>\n",
       "    <tr>\n",
       "      <th>SIGNUP</th>\n",
       "      <td>0.207301</td>\n",
       "      <td>-0.207301</td>\n",
       "    </tr>\n",
       "    <tr>\n",
       "      <th>ORG_INVITE</th>\n",
       "      <td>0.156782</td>\n",
       "      <td>-0.156782</td>\n",
       "    </tr>\n",
       "    <tr>\n",
       "      <th>SIGNUP_GOOGLE_AUTH</th>\n",
       "      <td>0.145219</td>\n",
       "      <td>-0.145219</td>\n",
       "    </tr>\n",
       "    <tr>\n",
       "      <th>GUEST_INVITE</th>\n",
       "      <td>0.091087</td>\n",
       "      <td>0.091087</td>\n",
       "    </tr>\n",
       "    <tr>\n",
       "      <th>activeinvite</th>\n",
       "      <td>0.086213</td>\n",
       "      <td>0.086213</td>\n",
       "    </tr>\n",
       "    <tr>\n",
       "      <th>opted_in_to_mailing_list</th>\n",
       "      <td>0.009463</td>\n",
       "      <td>0.009463</td>\n",
       "    </tr>\n",
       "    <tr>\n",
       "      <th>enabled_for_marketing_drip</th>\n",
       "      <td>0.000000</td>\n",
       "      <td>0.000000</td>\n",
       "    </tr>\n",
       "    <tr>\n",
       "      <th>PERSONAL_PROJECTS</th>\n",
       "      <td>0.000000</td>\n",
       "      <td>0.000000</td>\n",
       "    </tr>\n",
       "    <tr>\n",
       "      <th>userinvite</th>\n",
       "      <td>0.000000</td>\n",
       "      <td>0.000000</td>\n",
       "    </tr>\n",
       "  </tbody>\n",
       "</table>\n",
       "</div>"
      ],
      "text/plain": [
       "                             abscoef      coef\n",
       "feature                                       \n",
       "orgrate                     4.772734  4.772734\n",
       "SIGNUP                      0.207301 -0.207301\n",
       "ORG_INVITE                  0.156782 -0.156782\n",
       "SIGNUP_GOOGLE_AUTH          0.145219 -0.145219\n",
       "GUEST_INVITE                0.091087  0.091087\n",
       "activeinvite                0.086213  0.086213\n",
       "opted_in_to_mailing_list    0.009463  0.009463\n",
       "enabled_for_marketing_drip  0.000000  0.000000\n",
       "PERSONAL_PROJECTS           0.000000  0.000000\n",
       "userinvite                  0.000000  0.000000"
      ]
     },
     "execution_count": 240,
     "metadata": {},
     "output_type": "execute_result"
    }
   ],
   "source": [
    "lcols = ['GUEST_INVITE', 'opted_in_to_mailing_list', 'enabled_for_marketing_drip', 'ORG_INVITE','activeinvite','SIGNUP', \n",
    "         'PERSONAL_PROJECTS', 'SIGNUP_GOOGLE_AUTH', 'userinvite', 'orgrate']\n",
    "clflogdiff, _, _, _, ytest = do_classify(LogisticRegression(penalty=\"l1\"), {\"C\": [0.001, 0.01, 0.1, 1.0, 10.0,100,1000]}, full,lcols, u'target',1, mask=mask)\n",
    "lasso_importances=pd.DataFrame(dict(feature=lcols, coef=clflogdiff.coef_[0], abscoef=np.abs(clflogdiff.coef_[0]))).sort('abscoef', ascending=False)\n",
    "lasso_importances.set_index(\"feature\", inplace=True)\n",
    "lasso_importances.head(10)"
   ]
  },
  {
   "cell_type": "markdown",
   "metadata": {},
   "source": [
    "Without difference masking the other variable importances, we can now see that the adoption rate by organization and the creation sources are fairly good indicators of predicting if a user will adopt or not."
   ]
  },
  {
   "cell_type": "code",
   "execution_count": null,
   "metadata": {
    "collapsed": true
   },
   "outputs": [],
   "source": []
  }
 ],
 "metadata": {
  "kernelspec": {
   "display_name": "Python 3",
   "language": "python",
   "name": "python3"
  },
  "language_info": {
   "codemirror_mode": {
    "name": "ipython",
    "version": 3
   },
   "file_extension": ".py",
   "mimetype": "text/x-python",
   "name": "python",
   "nbconvert_exporter": "python",
   "pygments_lexer": "ipython3",
   "version": "3.6.2"
  }
 },
 "nbformat": 4,
 "nbformat_minor": 1
}
